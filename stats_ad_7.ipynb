{
 "cells": [
  {
   "cell_type": "markdown",
   "id": "d0901220-544e-41ce-bd42-9dc112bade20",
   "metadata": {},
   "source": [
    "<span style=color:pink;font-size:50px>ASSIGNMENT</span>"
   ]
  },
  {
   "cell_type": "markdown",
   "id": "42f6dd4f-dae2-4b7b-b964-0874783d2c8f",
   "metadata": {},
   "source": [
    "<span style=color:red;font-size:55px>STATISTICS ADVANC-7</span>"
   ]
  },
  {
   "cell_type": "markdown",
   "id": "70019892-4a2c-45e8-bfcc-971e29d6e6fb",
   "metadata": {},
   "source": [
    "## Q1. Write a Python function that takes in two arrays of data and calculates the F-value for a variance ratio test. The function should return the F-value and the corresponding p-value for the test."
   ]
  },
  {
   "cell_type": "markdown",
   "id": "9b65a419-d05b-44a5-bd02-ded2230fee0f",
   "metadata": {},
   "source": [
    "## Ans-"
   ]
  },
  {
   "cell_type": "code",
   "execution_count": 1,
   "id": "f06ecc64-7ae0-4577-a6bf-a863a0d88fc8",
   "metadata": {},
   "outputs": [
    {
     "name": "stdout",
     "output_type": "stream",
     "text": [
      "F-value: 25.0\n",
      "p-value: 0.0010528257933665396\n"
     ]
    }
   ],
   "source": [
    "from scipy.stats import f_oneway\n",
    "\n",
    "def variance_ratio_test(data1, data2):\n",
    "    \"\"\"\n",
    "    Perform a variance ratio test on two arrays of data.\n",
    "    \n",
    "    Parameters:\n",
    "        data1 (array-like): First array of data.\n",
    "        data2 (array-like): Second array of data.\n",
    "        \n",
    "    Returns:\n",
    "        f_value (float): F-value for the variance ratio test.\n",
    "        p_value (float): Corresponding p-value for the test.\n",
    "    \"\"\"\n",
    "    f_value, p_value = f_oneway(data1, data2)\n",
    "    return f_value, p_value\n",
    "\n",
    "# Example usage:\n",
    "data1 = [1, 2, 3, 4, 5]\n",
    "data2 = [6, 7, 8, 9, 10]\n",
    "f_value, p_value = variance_ratio_test(data1, data2)\n",
    "print(\"F-value:\", f_value)\n",
    "print(\"p-value:\", p_value)\n"
   ]
  },
  {
   "cell_type": "markdown",
   "id": "3fe650f8-462f-4b76-a71e-6f6a9f1ce6fb",
   "metadata": {},
   "source": [
    "## Q2. Given a significance level of 0.05 and the degrees of freedom for the numerator and denominator of an F-distribution, write a Python function that returns the critical F-value for a two-tailed test."
   ]
  },
  {
   "cell_type": "markdown",
   "id": "5bbf68bc-852b-4c01-a7d6-06090958aaef",
   "metadata": {},
   "source": [
    "## Ans-"
   ]
  },
  {
   "cell_type": "code",
   "execution_count": 2,
   "id": "704cd7c9-147b-47e5-bd6c-de7caef0ff07",
   "metadata": {},
   "outputs": [
    {
     "name": "stdout",
     "output_type": "stream",
     "text": [
      "Critical F-value: 3.8586986662732143\n"
     ]
    }
   ],
   "source": [
    "from scipy.stats import f\n",
    "\n",
    "def critical_f_value(alpha, dfn, dfd):\n",
    "    \"\"\"\n",
    "    Calculate the critical F-value for a two-tailed test given the significance level and degrees of freedom.\n",
    "    \n",
    "    Parameters:\n",
    "        alpha (float): Significance level.\n",
    "        dfn (int): Degrees of freedom for the numerator.\n",
    "        dfd (int): Degrees of freedom for the denominator.\n",
    "        \n",
    "    Returns:\n",
    "        crit_value (float): Critical F-value.\n",
    "    \"\"\"\n",
    "    crit_value = f.ppf(1 - alpha/2, dfn, dfd)\n",
    "    return crit_value\n",
    "\n",
    "# Example usage:\n",
    "alpha = 0.05\n",
    "dfn = 3  # Degrees of freedom for numerator\n",
    "dfd = 20  # Degrees of freedom for denominator\n",
    "crit_value = critical_f_value(alpha, dfn, dfd)\n",
    "print(\"Critical F-value:\", crit_value)\n"
   ]
  },
  {
   "cell_type": "markdown",
   "id": "668371af-89d9-412c-bde0-731b9f53b20c",
   "metadata": {},
   "source": [
    "## Q3. Write a Python program that generates random samples from two normal distributions with known variances and uses an F-test to determine if the variances are equal. The program should output the Fvalue, degrees of freedom, and p-value for the test."
   ]
  },
  {
   "cell_type": "markdown",
   "id": "f015efac-d8d4-4d40-b086-8292802433c6",
   "metadata": {},
   "source": [
    "## Ans-"
   ]
  },
  {
   "cell_type": "code",
   "execution_count": 4,
   "id": "f896d6d8-9f14-40ca-8b97-e65db4c06375",
   "metadata": {},
   "outputs": [
    {
     "name": "stdout",
     "output_type": "stream",
     "text": [
      "F-value: 1.1027130161816712\n",
      "Degrees of freedom (numerator): 99\n",
      "Degrees of freedom (denominator): 99\n",
      "p-value: 1.372390360100711\n"
     ]
    }
   ],
   "source": [
    "import numpy as np\n",
    "from scipy.stats import f\n",
    "\n",
    "def f_test_equal_variances(data1, data2):\n",
    "    \"\"\"\n",
    "    Perform an F-test to determine if the variances of two datasets are equal.\n",
    "    \n",
    "    Parameters:\n",
    "        data1 (array-like): First dataset.\n",
    "        data2 (array-like): Second dataset.\n",
    "        \n",
    "    Returns:\n",
    "        f_value (float): F-value for the F-test.\n",
    "        dfn (int): Degrees of freedom numerator.\n",
    "        dfd (int): Degrees of freedom denominator.\n",
    "        p_value (float): Corresponding p-value for the test.\n",
    "    \"\"\"\n",
    "    n1 = len(data1)\n",
    "    n2 = len(data2)\n",
    "    var1 = np.var(data1, ddof=1)  # Compute sample variance\n",
    "    var2 = np.var(data2, ddof=1)  # Compute sample variance\n",
    "    f_value = var1 / var2 if var1 > var2 else var2 / var1  # F-statistic\n",
    "    dfn = n1 - 1\n",
    "    dfd = n2 - 1\n",
    "    if var1 > var2:\n",
    "        p_value = 2 * (1 - f.cdf(f_value, dfn, dfd))\n",
    "    else:\n",
    "        p_value = 2 * f.cdf(f_value, dfn, dfd)\n",
    "    return f_value, dfn, dfd, p_value\n",
    "\n",
    "# Generate random samples from normal distributions\n",
    "np.random.seed(42)  # for reproducibility\n",
    "data1 = np.random.normal(loc=5, scale=2, size=100)\n",
    "data2 = np.random.normal(loc=5, scale=2, size=100)\n",
    "\n",
    "# Perform F-test\n",
    "f_value, dfn, dfd, p_value = f_test_equal_variances(data1, data2)\n",
    "\n",
    "# Output results\n",
    "print(\"F-value:\", f_value)\n",
    "print(\"Degrees of freedom (numerator):\", dfn)\n",
    "print(\"Degrees of freedom (denominator):\", dfd)\n",
    "print(\"p-value:\", p_value)\n"
   ]
  },
  {
   "cell_type": "markdown",
   "id": "2b32a57f-a624-400e-983c-cef65048609e",
   "metadata": {},
   "source": [
    "## Q4.The variances of two populations are known to be 10 and 15. A sample of 12 observations is taken from each population. Conduct an F-test at the 5% significance level to determine if the variances are significantly different.\n",
    "\n"
   ]
  },
  {
   "cell_type": "markdown",
   "id": "43252a34-e4cc-4a16-ba49-022bafac70c7",
   "metadata": {},
   "source": [
    "## Ans-"
   ]
  },
  {
   "cell_type": "markdown",
   "id": "22164f76-fc45-4f05-919c-cacb9bfd2c59",
   "metadata": {},
   "source": [
    "## To conduct the F-test for comparing the variances of two populations, we need to set up the null and alternative hypotheses:\n",
    "\n",
    "# Null Hypothesis (H0): The variances of the two populations are equal.\n",
    "# Alternative Hypothesis (H1): The variances of the two populations are not equal.\n",
    "Then, we can calculate the F-statistic and compare it to the critical F-value at the given significance level to determine whether to reject the null hypothesis or not.\n",
    "\n",
    "Let's compute the critical F-value for a two-tailed test at the 5% significance level and then compare it with the calculated F-statistic:"
   ]
  },
  {
   "cell_type": "code",
   "execution_count": 6,
   "id": "36968ca6-3125-4a79-a5d6-a83b2b7b5663",
   "metadata": {},
   "outputs": [
    {
     "name": "stdout",
     "output_type": "stream",
     "text": [
      "Fail to reject the null hypothesis: Variances are not significantly different.\n",
      "F-statistic: 1.5\n",
      "Critical F-value: 3.473699051085809\n"
     ]
    }
   ],
   "source": [
    "from scipy.stats import f\n",
    "\n",
    "# Given data\n",
    "variance1 = 10\n",
    "variance2 = 15\n",
    "n1 = 12\n",
    "n2 = 12\n",
    "alpha = 0.05\n",
    "\n",
    "# Compute degrees of freedom\n",
    "dfn = n1 - 1\n",
    "dfd = n2 - 1\n",
    "\n",
    "# Calculate F-statistic\n",
    "f_statistic = variance1 / variance2 if variance1 > variance2 else variance2 / variance1\n",
    "\n",
    "# Calculate critical F-value\n",
    "crit_value = f.ppf(1 - alpha/2, dfn, dfd)\n",
    "\n",
    "# Perform F-test\n",
    "if f_statistic > crit_value:\n",
    "    print(\"Reject the null hypothesis: Variances are significantly different.\")\n",
    "else:\n",
    "    print(\"Fail to reject the null hypothesis: Variances are not significantly different.\")\n",
    "\n",
    "# Output F-statistic and critical F-value\n",
    "print(\"F-statistic:\", f_statistic)\n",
    "print(\"Critical F-value:\", crit_value)\n"
   ]
  },
  {
   "cell_type": "markdown",
   "id": "8d8a34cf-455c-42d3-89e6-46aa0260614e",
   "metadata": {},
   "source": [
    "## Q5. A manufacturer claims that the variance of the diameter of a certain product is 0.005. A sample of 25 products is taken, and the sample variance is found to be 0.006. Conduct an F-test at the 1% significance level to determine if the claim is justified."
   ]
  },
  {
   "cell_type": "markdown",
   "id": "fe748846-dfea-4f4a-ae60-97dbadf0463b",
   "metadata": {},
   "source": [
    "## Ans-"
   ]
  },
  {
   "cell_type": "markdown",
   "id": "f38c9668-7ae8-4cbc-b0a4-e03af0aabe25",
   "metadata": {},
   "source": [
    "### Conducting an F-test in Python\n",
    "\n",
    "Suppose a manufacturer claims that the variance of the diameter of a certain product is 0.005. We have taken a sample of 25 products, and the sample variance is found to be 0.006. We want to conduct an F-test at the 1% significance level to determine if the claim is justified.\n",
    "\n",
    "To conduct the F-test, we follow these steps:\n",
    "\n",
    "1. **Set up hypotheses**:\n",
    "   - Null Hypothesis (H0): The population variance is equal to the claimed variance (0.005).\n",
    "   - Alternative Hypothesis (H1): The population variance is not equal to the claimed variance.\n",
    "\n",
    "2. **Calculate the F-statistic**:\n",
    "   We use the formula: F = Sample Variance / Claimed Variance.\n",
    "\n",
    "3. **Determine critical F-value**:\n",
    "   Under the null hypothesis, the F-statistic follows an F-distribution. We calculate the critical F-value at the 1% significance level with appropriate degrees of freedom.\n",
    "\n",
    "4. **Perform the F-test**:\n",
    "   Compare the calculated F-statistic to the critical F-value. If the F-statistic exceeds the critical F-value, we reject the null hypothesis.\n",
    "\n",
    "Let's perform these steps using Python:\n",
    "\n",
    "\n"
   ]
  },
  {
   "cell_type": "code",
   "execution_count": 7,
   "id": "ee1af9d9-e33b-4333-9e8c-8b656b4bd5f6",
   "metadata": {},
   "outputs": [
    {
     "name": "stdout",
     "output_type": "stream",
     "text": [
      "Fail to reject the null hypothesis: The claim is justified.\n",
      "F-statistic: 1.2\n",
      "Critical F-value: 2.966741631292762\n"
     ]
    }
   ],
   "source": [
    "\n",
    "from scipy.stats import f\n",
    "\n",
    "# Given data\n",
    "claimed_variance = 0.005\n",
    "sample_variance = 0.006\n",
    "n = 25\n",
    "alpha = 0.01  # 1% significance level\n",
    "\n",
    "# Degrees of freedom\n",
    "dfn = n - 1\n",
    "dfd = n - 1\n",
    "\n",
    "# Calculate F-statistic\n",
    "f_statistic = sample_variance / claimed_variance\n",
    "\n",
    "# Calculate critical F-value\n",
    "crit_value = f.ppf(1 - alpha/2, dfn, dfd)\n",
    "\n",
    "# Perform F-test\n",
    "if f_statistic > crit_value:\n",
    "    print(\"Reject the null hypothesis: The claim is not justified.\")\n",
    "else:\n",
    "    print(\"Fail to reject the null hypothesis: The claim is justified.\")\n",
    "\n",
    "# Output F-statistic and critical F-value\n",
    "print(\"F-statistic:\", f_statistic)\n",
    "print(\"Critical F-value:\", crit_value)"
   ]
  },
  {
   "cell_type": "markdown",
   "id": "c971f4f7-a20c-4848-905f-85d7d2d9338e",
   "metadata": {},
   "source": [
    "## Q6. Write a Python function that takes in the degrees of freedom for the numerator and denominator of anF-distribution and calculates the mean and variance of the distribution. The function should return the mean and variance as a tuple."
   ]
  },
  {
   "cell_type": "markdown",
   "id": "84883ff9-3470-4b1d-b17d-5ee2adf91f90",
   "metadata": {},
   "source": [
    "## Ans-"
   ]
  },
  {
   "cell_type": "markdown",
   "id": "c03324c6-af92-4c1f-a6a8-8406596d1f45",
   "metadata": {},
   "source": [
    "### Calculating Mean and Variance of an F-distribution\n",
    "\n",
    "To calculate the mean and variance of an F-distribution given the degrees of freedom for the numerator and denominator, we use specific formulas.\n",
    "\n",
    "#### Mean of an F-distribution:\n",
    "The mean of an F-distribution is given by:\n",
    "\\[ \\text{mean} = \\frac{d_{\\text{df}}}{d_{\\text{df}} - 2} \\]\n",
    "where \\( d_{\\text{df}} \\) is the degrees of freedom for the denominator.\n",
    "\n",
    "#### Variance of an F-distribution:\n",
    "The variance of an F-distribution is given by:\n",
    "\\[ \\text{variance} = \\frac{{2 \\cdot (d_{\\text{df}}^2 \\cdot (d_{\\text{df}} + d_{\\text{dfn}} - 2)}}{{d_{\\text{dfn}} \\cdot (d_{\\text{dfn}} - 2)^2 \\cdot (d_{\\text{dfn}} - 4)}} \\]\n",
    "where \\( d_{\\text{dfn}} \\) is the degrees of freedom for the numerator.\n",
    "\n",
    "Let's implement these calculations in a Python function:"
   ]
  },
  {
   "cell_type": "code",
   "execution_count": 8,
   "id": "ef0bd437-5ee8-4060-967c-0f0580059d0a",
   "metadata": {},
   "outputs": [
    {
     "name": "stdout",
     "output_type": "stream",
     "text": [
      "Mean: 1.1111111111111112\n",
      "Variance: -5600.0\n"
     ]
    }
   ],
   "source": [
    "def f_distribution_mean_variance(dfn, dfd):\n",
    "    \"\"\"\n",
    "    Calculate the mean and variance of an F-distribution.\n",
    "    \n",
    "    Parameters:\n",
    "        dfn (int): Degrees of freedom for the numerator.\n",
    "        dfd (int): Degrees of freedom for the denominator.\n",
    "        \n",
    "    Returns:\n",
    "        mean_variance (tuple): Mean and variance of the F-distribution.\n",
    "    \"\"\"\n",
    "    mean = dfd / (dfd - 2)\n",
    "    variance = (2 * (dfd**2) * (dfd + dfn - 2)) / (dfn * (dfn - 2)**2 * (dfn - 4))\n",
    "    return mean, variance\n",
    "\n",
    "# Example usage:\n",
    "dfn = 3\n",
    "dfd = 20\n",
    "mean, variance = f_distribution_mean_variance(dfn, dfd)\n",
    "print(\"Mean:\", mean)\n",
    "print(\"Variance:\", variance)"
   ]
  },
  {
   "cell_type": "markdown",
   "id": "25fa8e2d-1fa8-442d-a318-166a7c232a02",
   "metadata": {},
   "source": [
    "## Q7. A random sample of 10 measurements is taken from a normal population with unknown variance. The sample variance is found to be 25. Another random sample of 15 measurements is taken from another normal population with unknown variance, and the sample variance is found to be 20. Conduct an F-test at the 10% significance level to determine if the variances are significantly different."
   ]
  },
  {
   "cell_type": "markdown",
   "id": "6fae91cb-65e5-4fb4-970b-5379791385e6",
   "metadata": {},
   "source": [
    "## Ans-"
   ]
  },
  {
   "cell_type": "markdown",
   "id": "3c034a88-832b-4432-b77c-923570872dfe",
   "metadata": {},
   "source": [
    "### Conducting an F-test in Python\n",
    "\n",
    "Suppose we have taken two random samples from normal populations with unknown variances. The sample variance of the first sample of 10 measurements is found to be 25, and the sample variance of the second sample of 15 measurements is found to be 20. We want to conduct an F-test at the 10% significance level to determine if the variances are significantly different.\n",
    "\n",
    "To conduct the F-test, we follow these steps:\n",
    "\n",
    "1. **Set up hypotheses**:\n",
    "   - Null Hypothesis (H0): The variances of the two populations are equal.\n",
    "   - Alternative Hypothesis (H1): The variances of the two populations are not equal.\n",
    "\n",
    "2. **Calculate the F-statistic**:\n",
    "   We use the formula: F = Sample Variance 1 / Sample Variance 2.\n",
    "\n",
    "3. **Determine critical F-value**:\n",
    "   Under the null hypothesis, the F-statistic follows an F-distribution. We calculate the critical F-value at the 10% significance level with appropriate degrees of freedom.\n",
    "\n",
    "4. **Perform the F-test**:\n",
    "   Compare the calculated F-statistic to the critical F-value. If the F-statistic exceeds the critical F-value, we reject the null hypothesis.\n",
    "\n",
    "Let's conduct this F-test using Python:\n"
   ]
  },
  {
   "cell_type": "code",
   "execution_count": 9,
   "id": "c043f382-04c2-4ecf-bead-a8a93e54c0d1",
   "metadata": {},
   "outputs": [
    {
     "name": "stdout",
     "output_type": "stream",
     "text": [
      "Fail to reject the null hypothesis: Variances are not significantly different.\n",
      "F-statistic: 1.25\n",
      "Critical F-value: 2.6457907352338195\n"
     ]
    }
   ],
   "source": [
    "\n",
    "from scipy.stats import f\n",
    "\n",
    "# Given data\n",
    "sample_variance1 = 25\n",
    "sample_variance2 = 20\n",
    "n1 = 10\n",
    "n2 = 15\n",
    "alpha = 0.10  # 10% significance level\n",
    "\n",
    "# Degrees of freedom\n",
    "dfn = n1 - 1\n",
    "dfd = n2 - 1\n",
    "\n",
    "# Calculate F-statistic\n",
    "f_statistic = sample_variance1 / sample_variance2\n",
    "\n",
    "# Calculate critical F-value\n",
    "crit_value = f.ppf(1 - alpha/2, dfn, dfd)\n",
    "\n",
    "# Perform F-test\n",
    "if f_statistic > crit_value:\n",
    "    print(\"Reject the null hypothesis: Variances are significantly different.\")\n",
    "else:\n",
    "    print(\"Fail to reject the null hypothesis: Variances are not significantly different.\")\n",
    "\n",
    "# Output F-statistic and critical F-value\n",
    "print(\"F-statistic:\", f_statistic)\n",
    "print(\"Critical F-value:\", crit_value)"
   ]
  },
  {
   "cell_type": "markdown",
   "id": "cd63c57c-1b8b-4db3-9a84-3c96be01cf7a",
   "metadata": {},
   "source": [
    "## Q8. The following data represent the waiting times in minutes at two different restaurants on a Saturdaynight: Restaurant A: 24, 25, 28, 23, 22, 20, 27; Restaurant B: 31, 33, 35, 30, 32, 36. Conduct an F-test at the 5%significance level to determine if the variances are significantly different."
   ]
  },
  {
   "cell_type": "markdown",
   "id": "78881d8f-5f4b-4729-b5e9-63160b7e8aad",
   "metadata": {},
   "source": [
    "## Ans-"
   ]
  },
  {
   "cell_type": "markdown",
   "id": "c297d298-a50d-4450-a2d5-40e8686c6377",
   "metadata": {},
   "source": [
    "### Conducting an F-test in Python\n",
    "\n",
    "We are given the waiting times in minutes at two different restaurants on a Saturday night: Restaurant A and Restaurant B. We want to conduct an F-test at the 5% significance level to determine if the variances of the waiting times at the two restaurants are significantly different.\n",
    "\n",
    "To conduct the F-test, we follow these steps:\n",
    "\n",
    "1. **Set up hypotheses**:\n",
    "   - Null Hypothesis (H0): The variances of the waiting times at the two restaurants are equal.\n",
    "   - Alternative Hypothesis (H1): The variances of the waiting times at the two restaurants are not equal.\n",
    "\n",
    "2. **Calculate the F-statistic**:\n",
    "   We use the formula: F = Sample Variance A / Sample Variance B.\n",
    "\n",
    "3. **Determine critical F-value**:\n",
    "   Under the null hypothesis, the F-statistic follows an F-distribution. We calculate the critical F-value at the 5% significance level with appropriate degrees of freedom.\n",
    "\n",
    "4. **Perform the F-test**:\n",
    "   Compare the calculated F-statistic to the critical F-value. If the F-statistic exceeds the critical F-value, we reject the null hypothesis.\n",
    "\n",
    "Let's conduct this F-test using Python:\n",
    "\n",
    "\n"
   ]
  },
  {
   "cell_type": "code",
   "execution_count": 10,
   "id": "4194e67e-bab6-4f05-9ce5-c2659f33d5a0",
   "metadata": {},
   "outputs": [
    {
     "name": "stdout",
     "output_type": "stream",
     "text": [
      "Fail to reject the null hypothesis: Variances are not significantly different.\n",
      "F-statistic: 1.4551907719609583\n",
      "Critical F-value: 6.977701858535566\n"
     ]
    }
   ],
   "source": [
    "from scipy.stats import f\n",
    "import numpy as np\n",
    "\n",
    "# Given data\n",
    "waiting_times_A = [24, 25, 28, 23, 22, 20, 27]\n",
    "waiting_times_B = [31, 33, 35, 30, 32, 36]\n",
    "alpha = 0.05  # 5% significance level\n",
    "\n",
    "# Calculate sample variances\n",
    "sample_variance_A = np.var(waiting_times_A, ddof=1)\n",
    "sample_variance_B = np.var(waiting_times_B, ddof=1)\n",
    "\n",
    "# Degrees of freedom\n",
    "n_A = len(waiting_times_A)\n",
    "n_B = len(waiting_times_B)\n",
    "dfn = n_A - 1\n",
    "dfd = n_B - 1\n",
    "\n",
    "# Calculate F-statistic\n",
    "f_statistic = sample_variance_A / sample_variance_B\n",
    "\n",
    "# Calculate critical F-value\n",
    "crit_value = f.ppf(1 - alpha/2, dfn, dfd)\n",
    "\n",
    "# Perform F-test\n",
    "if f_statistic > crit_value:\n",
    "    print(\"Reject the null hypothesis: Variances are significantly different.\")\n",
    "else:\n",
    "    print(\"Fail to reject the null hypothesis: Variances are not significantly different.\")\n",
    "\n",
    "# Output F-statistic and critical F-value\n",
    "print(\"F-statistic:\", f_statistic)\n",
    "print(\"Critical F-value:\", crit_value)\n"
   ]
  },
  {
   "cell_type": "markdown",
   "id": "1f635adb-079b-4b72-a01c-ba79d23e458a",
   "metadata": {},
   "source": [
    "## Q9. The following data represent the test scores of two groups of students: Group A: 80, 85, 90, 92, 87, 83;Group B: 75, 78, 82, 79, 81, 84. Conduct an F-test at the 1% significance level to determine if the variancesare significantly different."
   ]
  },
  {
   "cell_type": "markdown",
   "id": "3de24f57-ada1-4742-89f7-c91e6f486393",
   "metadata": {},
   "source": [
    "## Ans-"
   ]
  },
  {
   "cell_type": "code",
   "execution_count": 12,
   "id": "3d39e549-0207-4610-aaad-c5b65a39bfad",
   "metadata": {},
   "outputs": [
    {
     "name": "stdout",
     "output_type": "stream",
     "text": [
      "Fail to reject the null hypothesis: Variances are not significantly different.\n",
      "F-statistic: 1.9442622950819677\n",
      "Critical F-value: 14.939605459912224\n"
     ]
    }
   ],
   "source": [
    "from scipy.stats import f\n",
    "import numpy as np\n",
    "\n",
    "# Given data\n",
    "test_scores_A = [80, 85, 90, 92, 87, 83]\n",
    "test_scores_B = [75, 78, 82, 79, 81, 84]\n",
    "alpha = 0.01  # 1% significance level\n",
    "\n",
    "# Calculate sample variances\n",
    "sample_variance_A = np.var(test_scores_A, ddof=1)\n",
    "sample_variance_B = np.var(test_scores_B, ddof=1)\n",
    "\n",
    "# Degrees of freedom\n",
    "n_A = len(test_scores_A)\n",
    "n_B = len(test_scores_B)\n",
    "dfn = n_A - 1\n",
    "dfd = n_B - 1\n",
    "\n",
    "# Calculate F-statistic\n",
    "f_statistic = sample_variance_A / sample_variance_B\n",
    "\n",
    "# Calculate critical F-value\n",
    "crit_value = f.ppf(1 - alpha/2, dfn, dfd)\n",
    "\n",
    "# Perform F-test\n",
    "if f_statistic > crit_value:\n",
    "    print(\"Reject the null hypothesis: Variances are significantly different.\")\n",
    "else:\n",
    "    print(\"Fail to reject the null hypothesis: Variances are not significantly different.\")\n",
    "\n",
    "# Output F-statistic and critical F-value\n",
    "print(\"F-statistic:\", f_statistic)\n",
    "print(\"Critical F-value:\", crit_value)\n"
   ]
  },
  {
   "cell_type": "code",
   "execution_count": null,
   "id": "0a0712a1-22a8-4872-9dfb-f4d5121d4e88",
   "metadata": {},
   "outputs": [],
   "source": []
  }
 ],
 "metadata": {
  "kernelspec": {
   "display_name": "Python 3 (ipykernel)",
   "language": "python",
   "name": "python3"
  },
  "language_info": {
   "codemirror_mode": {
    "name": "ipython",
    "version": 3
   },
   "file_extension": ".py",
   "mimetype": "text/x-python",
   "name": "python",
   "nbconvert_exporter": "python",
   "pygments_lexer": "ipython3",
   "version": "3.10.8"
  }
 },
 "nbformat": 4,
 "nbformat_minor": 5
}
